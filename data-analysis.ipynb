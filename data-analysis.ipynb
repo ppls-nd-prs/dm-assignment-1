{
 "cells": [
  {
   "cell_type": "code",
   "execution_count": 1,
   "metadata": {},
   "outputs": [],
   "source": [
    "import pandas as pd\n",
    "from main import tree_grow, tree_grow_b, tree_pred, tree_pred_b"
   ]
  },
  {
   "cell_type": "code",
   "execution_count": 2,
   "metadata": {},
   "outputs": [],
   "source": [
    "train = pd.read_csv(\"eclipse-metrics-packages-2.0.csv\", delimiter=\";\")\n",
    "list(train.columns[4:44])\n",
    "feats = ['pre',\n",
    " 'ACD_avg',\n",
    " 'ACD_max',\n",
    " 'ACD_sum',\n",
    " 'FOUT_avg',\n",
    " 'FOUT_max',\n",
    " 'FOUT_sum',\n",
    " 'MLOC_avg',\n",
    " 'MLOC_max',\n",
    " 'MLOC_sum',\n",
    " 'NBD_avg',\n",
    " 'NBD_max',\n",
    " 'NBD_sum',\n",
    " 'NOCU',\n",
    " 'NOF_avg',\n",
    " 'NOF_max',\n",
    " 'NOF_sum',\n",
    " 'NOI_avg',\n",
    " 'NOI_max',\n",
    " 'NOI_sum',\n",
    " 'NOM_avg',\n",
    " 'NOM_max',\n",
    " 'NOM_sum',\n",
    " 'NOT_avg',\n",
    " 'NOT_max',\n",
    " 'NOT_sum',\n",
    " 'NSF_avg',\n",
    " 'NSF_max',\n",
    " 'NSF_sum',\n",
    " 'NSM_avg',\n",
    " 'NSM_max',\n",
    " 'NSM_sum',\n",
    " 'PAR_avg',\n",
    " 'PAR_max',\n",
    " 'PAR_sum',\n",
    " 'TLOC_avg',\n",
    " 'TLOC_max',\n",
    " 'TLOC_sum',\n",
    " 'VG_avg',\n",
    " 'VG_max',\n",
    " 'VG_sum']\n",
    "train_x = train[feats]\n",
    "train_y = train[\"post\"]"
   ]
  },
  {
   "cell_type": "code",
   "execution_count": 7,
   "metadata": {},
   "outputs": [],
   "source": [
    "def accuracy(y_pred, y_true):\n",
    "    return len(y_pred[y_pred == y_true])/len(y_pred)\n",
    "\n",
    "def precision(y_pred, y_true):\n",
    "    TP = (y_pred[y_pred == 1] and y_true[y_pred == 1])\n",
    "    FP = (y_pred[y_pred == 1] and y_true[y_pred == 0])\n",
    "    return TP/(TP+FP)\n",
    "\n",
    "def recall(y_pred, y_true):\n",
    "    TP = (y_pred[y_pred == 1] and y_true[y_pred == 1])\n",
    "    FN = (y_pred[y_pred == 0] and y_true[y_pred == 1])\n",
    "    return TP/(TP+FN)"
   ]
  },
  {
   "cell_type": "code",
   "execution_count": 8,
   "metadata": {},
   "outputs": [
    {
     "data": {
      "text/plain": [
       "array([[  5.        ,   0.57142857,   4.        , ...,   2.57692308,\n",
       "         11.        , 134.        ],\n",
       "       [  2.        ,   0.        ,   0.        , ...,   2.33333333,\n",
       "         15.        ,  98.        ],\n",
       "       [  9.        ,   1.23809524,  14.        , ...,   2.04524887,\n",
       "         19.        , 452.        ],\n",
       "       ...,\n",
       "       [  0.        ,   0.        ,   0.        , ...,   1.75      ,\n",
       "          5.        ,  28.        ],\n",
       "       [  3.        ,   1.6       ,   5.        , ...,   2.1       ,\n",
       "          9.        ,  63.        ],\n",
       "       [  1.        ,   0.        ,   0.        , ...,   2.48148148,\n",
       "          8.        , 134.        ]])"
      ]
     },
     "execution_count": 8,
     "metadata": {},
     "output_type": "execute_result"
    }
   ],
   "source": [
    "train_x_np = train_x.to_numpy()\n",
    "train_x_np"
   ]
  },
  {
   "cell_type": "code",
   "execution_count": 9,
   "metadata": {},
   "outputs": [
    {
     "data": {
      "text/plain": [
       "array([ 0,  0,  0,  0,  0,  0,  0,  0,  3,  4,  3,  0,  0,  0,  0,  0,  0,\n",
       "        0,  0,  0,  0,  1,  0,  0,  0,  0,  5,  2,  0,  1,  0,  4,  6,  1,\n",
       "        0,  0,  2,  0,  7,  4,  3,  0,  1,  5, 21, 14,  1, 10,  4,  2,  0,\n",
       "        0,  0,  0,  0,  0,  0,  0,  0,  0,  0,  1,  0,  1,  1,  0,  0,  0,\n",
       "        0,  0,  0,  0,  0,  4,  0,  0,  0,  0,  0,  1,  0,  0,  0, 14, 10,\n",
       "        2,  0,  0,  0,  0,  0,  0, 16,  4,  2,  0,  1,  2,  6,  0,  2,  8,\n",
       "        4, 18,  0,  7,  3,  1,  1,  1,  3,  0,  0,  0, 10, 10,  1,  1,  9,\n",
       "        4,  0,  0,  4,  2,  0,  0,  7, 11,  2,  3, 14,  4,  6,  0,  0,  2,\n",
       "        0,  0,  0,  0,  3,  0, 29,  4,  0, 10,  2,  1,  2, 10,  0,  3,  1,\n",
       "        2,  3,  0,  3,  3,  0, 88,  0,  0,  1,  0,  1,  1,  0,  0,  0,  0,\n",
       "        0, 13,  2, 31,  1,  1,  0,  3,  2,  0,  0,  0,  0,  0,  0,  1,  0,\n",
       "        0,  0,  0,  2,  0,  2,  4,  0,  0, 13,  5,  0,  0,  0,  1,  0,  1,\n",
       "        0,  2,  0,  0,  0,  1,  1,  1,  1,  0,  0,  0,  0,  3,  0,  0,  0,\n",
       "        0,  0,  2,  6,  0, 45,  0,  0,  3,  0, 10,  4,  2,  2,  5,  5,  1,\n",
       "        1,  3,  1,  1,  1,  4, 11,  1,  1, 15,  3,  0,  3,  0,  1,  0,  3,\n",
       "        1,  6,  0,  2,  3,  6,  0,  0,  4,  0,  7,  0, 10,  0,  0,  7,  0,\n",
       "        0,  0,  0,  1,  9,  4,  1,  1,  2,  2,  4,  1,  0,  0,  6,  1,  0,\n",
       "        3,  0,  0,  1,  2,  3,  2,  1,  3,  2,  4,  2,  1,  1,  1,  1,  2,\n",
       "        7,  1,  3,  9,  6,  1,  0,  0,  3,  0,  0,  2,  5,  2,  9,  5,  0,\n",
       "        3,  0,  2,  8,  4,  5,  1,  3,  0,  4,  4,  8,  0,  0,  0,  4,  0,\n",
       "        2,  0,  0,  0,  0,  0,  0,  0,  0,  0,  0,  0,  0,  0,  0,  0,  0,\n",
       "        0,  0,  0,  0,  0,  0,  1,  2,  2,  4,  0,  0,  0,  0,  0,  0,  0,\n",
       "        0,  1,  0], dtype=int64)"
      ]
     },
     "execution_count": 9,
     "metadata": {},
     "output_type": "execute_result"
    }
   ],
   "source": [
    "train_y_np = train_y.to_numpy()\n",
    "train_y_np"
   ]
  },
  {
   "cell_type": "code",
   "execution_count": 10,
   "metadata": {},
   "outputs": [],
   "source": [
    "single_tree = tree_grow(train_x_np, train_y_np, 15, 5, 41)\n",
    "train_y_np_pred = tree_pred(train_x_np, single_tree)"
   ]
  },
  {
   "cell_type": "code",
   "execution_count": 18,
   "metadata": {},
   "outputs": [
    {
     "data": {
      "text/plain": [
       "(377, 41)"
      ]
     },
     "execution_count": 18,
     "metadata": {},
     "output_type": "execute_result"
    }
   ],
   "source": []
  },
  {
   "cell_type": "code",
   "execution_count": null,
   "metadata": {},
   "outputs": [],
   "source": []
  }
 ],
 "metadata": {
  "language_info": {
   "name": "python"
  }
 },
 "nbformat": 4,
 "nbformat_minor": 2
}
